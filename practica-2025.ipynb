{
  "cells": [
    {
      "cell_type": "markdown",
      "metadata": {
        "id": "view-in-github",
        "colab_type": "text"
      },
      "source": [
        "<a href=\"https://colab.research.google.com/github/infante-manu/unav-data-cleaning-and-preparation/blob/main/practica-2025.ipynb\" target=\"_parent\"><img src=\"https://colab.research.google.com/assets/colab-badge.svg\" alt=\"Open In Colab\"/></a>"
      ]
    },
    {
      "cell_type": "markdown",
      "metadata": {
        "application/vnd.databricks.v1+cell": {
          "cellMetadata": {},
          "inputWidgets": {},
          "nuid": "204c936a-7bf9-4566-be11-442beb901a84",
          "showTitle": false,
          "tableResultSettingsMap": {},
          "title": ""
        },
        "id": "qcgTU-RxNaoE"
      },
      "source": [
        "## PRACTICA 2025"
      ]
    },
    {
      "cell_type": "markdown",
      "metadata": {
        "application/vnd.databricks.v1+cell": {
          "cellMetadata": {},
          "inputWidgets": {},
          "nuid": "8fc7d67d-7598-4d8a-add3-cfff4cbd0cdf",
          "showTitle": false,
          "tableResultSettingsMap": {},
          "title": ""
        },
        "id": "OB_Xzdm7NaoH"
      },
      "source": [
        "\n",
        "Selecciona un dataset para resolver un problema supervisado, explique el objetivo a resolver, y cual es la variable objetivo\n",
        "- Define el objetivo en terminos de negocio\n",
        "- Documenta cada variable\n",
        "- Elige Modelo y metrica\n",
        "\n",
        "Sources para obtener dataset:\n",
        "- UCI Machine Learnig Repository: https://buff.ly/2H1pJoW\n",
        "- Zdataset: https://zdataset.com/category/free-dataset/\n",
        "- Data Is Plural: newsletter semanal donde podemos encontrar todo tipo de datos actuales de diversas materias. https://buff.ly/3vQUS55\n",
        "- Data .gov: base de datos publica del gobierno de EEUU donde podemos encontrar +300.000 conjuntos de datos. https://buff.ly/2C4Z0p9\n",
        "- NASA: https://buff.ly/3FWL8wx\n",
        "- Organización Mundial de la Salud: https://buff.ly/3Wmt05X\n",
        "\n",
        "\n",
        "- DrivenData: https://buff.ly/2NR7kPs\n",
        "- Analytics Vidhya:https://buff.ly/3hLmozf\n",
        "- Crowd Analytix: https://buff.ly/3vepvTt\n",
        "- AIcrowd: https://buff.ly/2HhtoOM\n",
        "- Kopuru:  https://buff.ly/3FSlXuQ\n",
        "- Kaggle:  https://buff.ly/29R09jv\n",
        "- Google Dataset Search:  https://buff.ly/38zjPWx\n",
        "- https://www.kaggle.com/datasets/hugomathien/soccer\n",
        "- https://data.world/datasets/soccer\n",
        "- https://github.com/openfootball\n"
      ]
    },
    {
      "cell_type": "markdown",
      "metadata": {
        "application/vnd.databricks.v1+cell": {
          "cellMetadata": {},
          "inputWidgets": {},
          "nuid": "d74b560f-7434-4a7e-b45f-d2c00e06796a",
          "showTitle": false,
          "tableResultSettingsMap": {},
          "title": ""
        },
        "id": "OuFdOvkFNaoI"
      },
      "source": [
        "### Importing Libraries"
      ]
    },
    {
      "cell_type": "markdown",
      "metadata": {
        "application/vnd.databricks.v1+cell": {
          "cellMetadata": {},
          "inputWidgets": {},
          "nuid": "db5f020e-a5d1-4a75-8586-692c295c1ee3",
          "showTitle": false,
          "tableResultSettingsMap": {},
          "title": ""
        },
        "id": "fppXHBsnNaoJ"
      },
      "source": [
        "### Read the Data\n",
        "- Describe each column\n",
        "- rename the columns' names for easy use."
      ]
    },
    {
      "cell_type": "markdown",
      "metadata": {
        "application/vnd.databricks.v1+cell": {
          "cellMetadata": {},
          "inputWidgets": {},
          "nuid": "da1a0a38-b75d-42db-a629-d3b8813fcce0",
          "showTitle": false,
          "tableResultSettingsMap": {},
          "title": ""
        },
        "id": "S-5lHMvKNaoJ"
      },
      "source": [
        "### Understanding and examinate Data\n",
        "- Check the head, shape, data-types of the features\n",
        "  - Fixing a data type\n",
        "- Check the statistical values of features\n",
        "- Identifique las columnas que contienen un valor único\n",
        "    - Elimine las columnas que contengan un solo valor\n",
        "- Considere las columnas que tienen muy pocos valores\n",
        "  - Quite las columnas que tengan una varianza baja\n",
        "- Identifique las filas que contienen datos duplicados\n",
        "  - Eliminar filas que contienen datos duplicados\n",
        "- check the missing values\n",
        "  - fill missing values\n",
        "- Detect strange values apart from the NaN Values\n",
        "  - Clear strange values apart from the NaN Values\n",
        "- Check outliers\n",
        "    - Tienen un impacto significativo en modelos que usan distancias\n",
        "- Drop the attributes that provide no useful information\n",
        "- Plot distributions"
      ]
    },
    {
      "cell_type": "markdown",
      "metadata": {
        "application/vnd.databricks.v1+cell": {
          "cellMetadata": {},
          "inputWidgets": {},
          "nuid": "e3c5bd9d-0b9e-43bb-8094-af9b18dfe46f",
          "showTitle": false,
          "tableResultSettingsMap": {},
          "title": ""
        },
        "id": "byBKQ5koNaoK"
      },
      "source": [
        "### Modeling & Evaluation\n",
        "\n",
        "- Split-out validation dataset\n",
        "    - Evita overfitting\n",
        "- Feature Selection\n",
        "- Transform data with normalización o estandarización\n",
        "- Examining Numerical and Categorical variables\n",
        "- Assign Categorical Types to Numeric Types\n",
        "  - Use OrdinalEncoder, LabelEncoder etc\n",
        "- Dimensionality reduction\n",
        "- Select Evaluation metric (R2, MSE or Accuraccy), de momento estas\n",
        "    - La precisión está sesgada cuando hay un desequilibrio en los datos. El cálculo de precisión favorecería la clase mayoritaria, ya que el modelo que sigue prediciendo la clase mayoritaria tendría una gran precisión.\n",
        "\n",
        "    - La precisión considera las predicciones falsas iguales entre sí, ya sea un falso positivo o un falso negativo. En realidad, algunas clasificaciones erróneas cuestan más que otras. Por ejemplo, un falso negativo en la predicción del cáncer es más peligroso que un falso positivo.\n",
        "    - Ya vereis Precision, Recall, or F1 score\n",
        "- Select baseline model\n",
        "- Select Algorithms, solo regresion lineal y logistica, futuro os he dejado el codigo preparado\n",
        "  - Chequea linealidad entre Xs e Y\n",
        "- Compare Algorithms\n",
        "- Improve metric--> adding new features (Feature engineering"
      ]
    },
    {
      "cell_type": "markdown",
      "metadata": {
        "application/vnd.databricks.v1+cell": {
          "cellMetadata": {},
          "inputWidgets": {},
          "nuid": "ead039e9-e3ba-48be-ac75-342044f5e2c4",
          "showTitle": false,
          "tableResultSettingsMap": {},
          "title": ""
        },
        "id": "cSwpvGTtNaoK"
      },
      "source": [
        "### Presentation\n",
        "\n",
        "- Document what you have done\n",
        "- Create a short presentation (5 slides)\n",
        "- Explain why your solution achieves the business objective\n",
        "- Don’t forget to present interesting points you noticed along the way\n",
        "- Describe what worked and what did not.\n",
        "- List your assumptions\n",
        "- Ensure your key findings are communicated through visualizations or easy-to-remember statements"
      ]
    }
  ],
  "metadata": {
    "application/vnd.databricks.v1+notebook": {
      "computePreferences": null,
      "dashboards": [],
      "environmentMetadata": {
        "base_environment": "",
        "client": "1"
      },
      "language": "python",
      "notebookMetadata": {
        "pythonIndentUnit": 2
      },
      "notebookName": "(Clone) Practica 2025",
      "widgets": {}
    },
    "colab": {
      "provenance": [],
      "include_colab_link": true
    }
  },
  "nbformat": 4,
  "nbformat_minor": 0
}